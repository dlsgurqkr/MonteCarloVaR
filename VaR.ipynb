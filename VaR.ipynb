{
 "cells": [
  {
   "cell_type": "markdown",
   "id": "aaabd1bc-24a3-4573-afef-12826cd83bb6",
   "metadata": {
    "tags": []
   },
   "source": [
    "### Non-Parametric (Historical) Monte-Carlo VaR "
   ]
  },
  {
   "cell_type": "code",
   "execution_count": 275,
   "id": "312f3c08-adfe-45d0-9cc5-d33e2b027fde",
   "metadata": {},
   "outputs": [],
   "source": [
    "import numpy as np\n",
    "import pandas as pd\n",
    "import datetime as dt\n",
    "import yfinance as yf \n",
    "import matplotlib.pyplot as plt\n",
    "from scipy.stats import norm "
   ]
  },
  {
   "cell_type": "markdown",
   "id": "ed4dd56c-3c4a-444e-a2f2-aa832067d9f7",
   "metadata": {},
   "source": [
    "#### Necessary functions"
   ]
  },
  {
   "cell_type": "code",
   "execution_count": 38,
   "id": "e7ebdb59-7262-4873-955e-8e142ce1e9bf",
   "metadata": {
    "tags": []
   },
   "outputs": [],
   "source": []
  },
  {
   "cell_type": "markdown",
   "id": "81a548e3-f3bb-48f8-baf8-f59ba4e18a6c",
   "metadata": {},
   "source": [
    "### Select Parameters"
   ]
  },
  {
   "cell_type": "code",
   "execution_count": 46,
   "id": "b8de11e5-95fb-4cd2-9af6-e90649696116",
   "metadata": {
    "tags": []
   },
   "outputs": [],
   "source": [
    "ticker = ['SPY','AAPL']\n",
    "value_of_portfolio = 1000\n",
    "price_type = 'Adj Close' ## Options: Open, High, Low, Adj Close, Volumne\n",
    "weight_type = 'price_weight' ##Options: 1. price_weight, 2. equal_weight, 3. market_cap_weight\n",
    "\n",
    "## Based on \n",
    "years = 10\n",
    "days = 30\n",
    "Number_of_random_simulation = 100000\n",
    "confidence_interval = 0.99\n",
    "distribution = 'z_score'"
   ]
  },
  {
   "cell_type": "markdown",
   "id": "d5943aa9-3ff9-495a-9fbc-8ba596f25b4b",
   "metadata": {},
   "source": [
    "### Step 1: extract 10 years historical data"
   ]
  },
  {
   "cell_type": "code",
   "execution_count": null,
   "id": "01502037-3ba3-4cfd-b0c6-eba23fa6d88e",
   "metadata": {},
   "outputs": [],
   "source": []
  },
  {
   "cell_type": "code",
   "execution_count": null,
   "id": "3defc9cc-f1d4-41a8-9d3f-cf36988404b3",
   "metadata": {
    "tags": []
   },
   "outputs": [],
   "source": []
  },
  {
   "cell_type": "markdown",
   "id": "64ad1e5a-a8ee-4e7c-ab4b-2ff7c0e6fc5b",
   "metadata": {
    "tags": []
   },
   "source": [
    "### Get Historical Data"
   ]
  },
  {
   "cell_type": "code",
   "execution_count": 462,
   "id": "e7dd8f5c-d74f-46e1-80a6-64baf151afbc",
   "metadata": {
    "tags": []
   },
   "outputs": [],
   "source": [
    "ticker = ['META']"
   ]
  },
  {
   "cell_type": "code",
   "execution_count": null,
   "id": "2b0d9daa-8fc9-4d46-ac86-be9f8c8eb78a",
   "metadata": {
    "tags": []
   },
   "outputs": [],
   "source": []
  },
  {
   "cell_type": "markdown",
   "id": "15f882df-d33c-4090-8467-be9d600de717",
   "metadata": {
    "tags": []
   },
   "source": [
    "### Calculate daily average log (pf return)"
   ]
  },
  {
   "cell_type": "code",
   "execution_count": null,
   "id": "d6c01678-7adb-4db5-8fa1-7958c7b41bee",
   "metadata": {
    "tags": []
   },
   "outputs": [],
   "source": [
    "# Load Data, Calculate daily average log return, standard deviation\n",
    "\n",
    "ticker = ['META']\n",
    "data = yf.download(ticker, start = (dt.datetime.now() - dt.timedelta(days=365*5)) , end = dt.datetime.now())\n",
    "\n",
    "weights = np.array([1/len(ticker)]*len(ticker))\n",
    "\n",
    "log_return = np.log(historic_daily_price/historic_daily_price.shift(1))\n",
    "mu = (log_return.mean())\n",
    "pf_mu=np.sum(mu*weight)\n",
    "print(f'P/F daily average log return is {pf_mu.round(5)}')\n",
    "\n",
    "cov_mat = log_return.cov()\n",
    "pf_st = weight.T @ cov_mat @ weight\n",
    "print(f'P/F daily average log return is {pf_st.round(5)}')\n",
    "\n",
    "z_score = np.random.normal(0,1,size=(int(days),simulation))\n",
    "\n",
    "def scenario_returns(mean,days,z_score,std):\n",
    "#    z_score = np.random.normal(0,1)\n",
    "    return mean * days + z_score * std * np.sqrt(days)\n",
    "\n",
    "# Build Monte Carlo Simulations and calculate VaR at 99% for 5 days \n",
    "\n",
    "simulation = 5000\n",
    "days = 5\n",
    "\n",
    "z_score = np.random.normal(0,1,size=(int(days),simulation))\n",
    "\n",
    "def scenario_returns(mean,days,z_score,std):\n",
    "#    z_score = np.random.normal(0,1)\n",
    "    return mean * days + z_score * std * np.sqrt(days)\n",
    "\n",
    "confidence_level = 0.99\n",
    "\n",
    "\n",
    "VaR = np.percentile(final_price, (1-confidence_level)*100)\n",
    "\n",
    "rets = pd.DataFrame(scenario_returns(pf_mu,days,z_score,0.04))\n",
    "\n",
    "price_ = 504 * np.exp(rets.cumsum())\n",
    "\n",
    "final_price = price_.iloc[4,:]\n",
    "\n",
    "ymin = min(price_.min().min(), final_price.min())\n",
    "ymax = max(price_.max().max(), final_price.max())\n",
    "#print(rets)\n",
    "\n",
    "fig, (ax1, ax2) = plt.subplots(nrows=1,ncols=2,figsize=(9,5))\n",
    "#\n",
    "price_.plot(ax=ax1, legend=False)\n",
    "ax1.set_xlabel('Day')\n",
    "ax1.set_ylabel('Price Over Time')\n",
    "ax1.set_xticklabels(range(0, days + 1))\n",
    "ax1.set_ylim([ymin,ymax])\n",
    "#ax1.set_xticklabels(range(1, days + 1))\n",
    "\n",
    "final_price.hist(ax=ax2, bins=50, orientation='horizontal')\n",
    "ax2.grid(False)\n",
    "ax2.axhline(y=VaR, color='red', linestyle='--', linewidth=2, label=f'VaR (5%): {VaR:.2f}')\n",
    "ax2.set_xlabel('Frequencies')\n",
    "ax2.set_ylabel('Price at t+5')\n",
    "ax2.set_title(f'VaR is {round(VaR,2)}')\n",
    "ax2.set_ylim([ymin,ymax])\n",
    "plt.show()\n",
    "#ax1.plot(price_, legend=False)\n",
    "print(f'Historical P/F daily average log return is {pf_mu.round(5)}')\n",
    "print(f'Historical P/F daily average log SD is {pf_st.round(5)}')"
   ]
  },
  {
   "cell_type": "code",
   "execution_count": null,
   "id": "dc7c9213-792f-490a-9485-fc8edfd2307a",
   "metadata": {
    "tags": []
   },
   "outputs": [],
   "source": []
  },
  {
   "cell_type": "code",
   "execution_count": null,
   "id": "1c9dbab6-8365-4bbf-8fdd-cc21b1f402c0",
   "metadata": {
    "tags": []
   },
   "outputs": [],
   "source": []
  },
  {
   "cell_type": "code",
   "execution_count": null,
   "id": "252d4a70-6689-4c33-bc23-c530be69ab35",
   "metadata": {
    "tags": []
   },
   "outputs": [],
   "source": []
  },
  {
   "cell_type": "code",
   "execution_count": null,
   "id": "36bc1109-48d7-4cda-8e6a-9ad88b890877",
   "metadata": {},
   "outputs": [],
   "source": []
  }
 ],
 "metadata": {
  "kernelspec": {
   "display_name": "Python 3 (ipykernel)",
   "language": "python",
   "name": "python3"
  },
  "language_info": {
   "codemirror_mode": {
    "name": "ipython",
    "version": 3
   },
   "file_extension": ".py",
   "mimetype": "text/x-python",
   "name": "python",
   "nbconvert_exporter": "python",
   "pygments_lexer": "ipython3",
   "version": "3.11.5"
  }
 },
 "nbformat": 4,
 "nbformat_minor": 5
}
